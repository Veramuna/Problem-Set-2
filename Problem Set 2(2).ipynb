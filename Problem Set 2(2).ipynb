{
 "cells": [
  {
   "cell_type": "markdown",
   "id": "e7682993-b58b-4072-9b46-3a349353a909",
   "metadata": {},
   "source": [
    "# Question 1\n",
    "Value Displayed.\n"
   ]
  },
  {
   "cell_type": "code",
   "execution_count": 56,
   "id": "397c067b-640f-4329-b6b5-3201d059c26b",
   "metadata": {},
   "outputs": [
    {
     "data": {
      "text/plain": [
       "6"
      ]
     },
     "execution_count": 56,
     "metadata": {},
     "output_type": "execute_result"
    }
   ],
   "source": [
    "a = 0  \n",
    "\n",
    "def b():\n",
    "    global a\n",
    "    a = c(a)\n",
    "\n",
    "def c(a):\n",
    "    return a + 2\n",
    "\n",
    "# Simulating the sequence of function calls and final evaluation of `a`\n",
    "b()  \n",
    "b()  \n",
    "b()  \n",
    "\n",
    "a\n"
   ]
  },
  {
   "cell_type": "markdown",
   "id": "2a4ca3d9-4a0f-45fb-ad03-adf731a817be",
   "metadata": {},
   "source": [
    "# Question 2\n",
    "Modify function fileLength"
   ]
  },
  {
   "cell_type": "code",
   "execution_count": 59,
   "id": "9cb6fc42-6796-4dcb-bd1f-97cd96468c9b",
   "metadata": {},
   "outputs": [
    {
     "name": "stdout",
     "output_type": "stream",
     "text": [
      "File midterm.py not found.\n",
      "None\n",
      "File idterm.py not found.\n",
      "None\n"
     ]
    }
   ],
   "source": [
    "def fileLength(filename):\n",
    "    try:\n",
    "        with open(filename, 'r') as infile:\n",
    "            file_data = infile.read()\n",
    "            return len(file_data)\n",
    "    except FileNotFoundError:\n",
    "\n",
    "        print(f\"File {filename} not found.\")\n",
    "    except Exception as e:\n",
    "    \n",
    "        print(f\"An error occurred: {e}\")\n",
    "\n",
    "\n",
    "print(fileLength('midterm.py'))  \n",
    "print(fileLength('idterm.py'))  "
   ]
  },
  {
   "cell_type": "markdown",
   "id": "713a95b4-b86d-465b-b9ae-58f32ad4736f",
   "metadata": {},
   "source": [
    "# Question 3\n",
    "\n",
    "Write a class named Marsupial, then Kangaroo as a subclass of Marsupial.  "
   ]
  },
  {
   "cell_type": "code",
   "execution_count": 62,
   "id": "3c397781-d6a1-4515-824c-66466f83d569",
   "metadata": {},
   "outputs": [
    {
     "name": "stdout",
     "output_type": "stream",
     "text": [
      "I am a Kangaroo located at coordinates (0,0)\n",
      "['doll', 'firetruck', 'kitten']\n",
      "I am a Kangaroo located at coordinates (0,0)\n"
     ]
    }
   ],
   "source": [
    "\n",
    "class Marsupial:\n",
    "    def __init__(self):\n",
    "        self.pouch = []\n",
    "\n",
    "    def put_in_pouch(self, item):\n",
    "        self.pouch.append(item)\n",
    "\n",
    "    def pouch_contents(self):\n",
    "        return self.pouch\n",
    "\n",
    "class Kangaroo(Marsupial):\n",
    "    def __init__(self, x, y):\n",
    "       \n",
    "        super().__init__()\n",
    "        \n",
    "        self.x = x\n",
    "        self.y = y\n",
    "\n",
    "    def jump(self, dx, dy):\n",
    "        \n",
    "        self.y += dy\n",
    "\n",
    "    def __str__(self):\n",
    "        return f\"I am a Kangaroo located at coordinates ({self.x},{self.y})\"\n",
    "\n",
    "\n",
    "# Create a new Kangaroo at (0,0)\n",
    "k = Kangaroo(0, 0)\n",
    "print(k) \n",
    "\n",
    "# Add items to the pouch\n",
    "k.put_in_pouch('doll')\n",
    "k.put_in_pouch('firetruck')\n",
    "k.put_in_pouch('kitten')\n",
    "\n",
    "# Check pouch contents\n",
    "print(k.pouch_contents())  \n",
    "\n",
    "# Make the Kangaroo jump\n",
    "k.jump(1, 0)\n",
    "k.jump(1, 0)\n",
    "k.jump(1, 0)\n",
    "\n",
    "\n",
    "print(k)  # Should print the updated location (3,0)\n"
   ]
  },
  {
   "cell_type": "markdown",
   "id": "879831d5-cc06-4747-852a-476c603cf13f",
   "metadata": {},
   "source": [
    "# Question 4\n",
    "\n",
    "Write function collatz() that takes a positive integer x as input and prints the Collatz sequence starting at x. \n"
   ]
  },
  {
   "cell_type": "code",
   "execution_count": 65,
   "id": "0d3a0171-7813-4eae-bf6e-462ebe7621ac",
   "metadata": {},
   "outputs": [
    {
     "name": "stdout",
     "output_type": "stream",
     "text": [
      "1\n",
      "---\n",
      "10\n",
      "5\n",
      "16\n",
      "8\n",
      "4\n",
      "2\n",
      "1\n"
     ]
    }
   ],
   "source": [
    "def collatz(x):\n",
    "    print(x)\n",
    "    \n",
    "    if x == 1:\n",
    "        return\n",
    "   \n",
    "    elif x % 2 == 0:\n",
    "        collatz(x // 2)\n",
    "    \n",
    "    else:\n",
    "        collatz(3 * x + 1)\n",
    "\n",
    "\n",
    "collatz(1) \n",
    "print(\"---\")\n",
    "collatz(10)  "
   ]
  },
  {
   "cell_type": "markdown",
   "id": "0d6007f6-f7db-4641-a9b8-586a983a7de9",
   "metadata": {},
   "source": [
    "# Question 5\n",
    "\n",
    "Write a recursive method binary() that takes a non-negative integer n and prints the binary representation of integer n. "
   ]
  },
  {
   "cell_type": "code",
   "execution_count": 68,
   "id": "5f4379c1-e3db-41c8-ac8c-6660678d9f22",
   "metadata": {},
   "outputs": [
    {
     "name": "stdout",
     "output_type": "stream",
     "text": [
      "0\n",
      "1\n",
      "11\n",
      "1001"
     ]
    }
   ],
   "source": [
    "def binary(n):\n",
    "    if n == 0:\n",
    "        print(0, end='')\n",
    "        return\n",
    "    elif n == 1:\n",
    "        print(1, end='')\n",
    "        return\n",
    "\n",
    "    else:\n",
    "        binary(n // 2)\n",
    "        print(n % 2, end='')\n",
    "\n",
    "\n",
    "binary(0)  \n",
    "print()    \n",
    "binary(1)\n",
    "print()\n",
    "binary(3)  \n",
    "print()\n",
    "binary(9)  \n"
   ]
  },
  {
   "cell_type": "markdown",
   "id": "15f95d8c-26e5-4f6a-a5de-67875167a661",
   "metadata": {},
   "source": [
    "# Question 6 \n",
    "\n",
    "Implement a class named HeadingParser\n"
   ]
  },
  {
   "cell_type": "code",
   "execution_count": 71,
   "id": "df6dbafc-5a73-495e-934d-ec2eefa6a85a",
   "metadata": {},
   "outputs": [
    {
     "name": "stdout",
     "output_type": "stream",
     "text": [
      "Main Heading\n",
      " Subheading 1\n",
      "  Sub-subheading\n",
      " Subheading 2\n",
      "   Deeper subheading\n"
     ]
    }
   ],
   "source": [
    "from html.parser import HTMLParser\n",
    "\n",
    "class HeadingParser(HTMLParser):\n",
    "    def __init__(self):\n",
    "        super().__init__()\n",
    "        self.current_heading_level = None\n",
    "\n",
    "    def handle_starttag(self, tag, attrs):\n",
    "    \n",
    "        if tag in ['h1', 'h2', 'h3', 'h4', 'h5', 'h6']:\n",
    "            \n",
    "            self.current_heading_level = int(tag[1])\n",
    "\n",
    "    def handle_endtag(self, tag):\n",
    "       \n",
    "        if tag in ['h1', 'h2', 'h3', 'h4', 'h5', 'h6']:\n",
    "            self.current_heading_level = None\n",
    "\n",
    "    def handle_data(self, data):\n",
    "        \n",
    "        if self.current_heading_level:\n",
    "       \n",
    "            print(' ' * (self.current_heading_level - 1) + data.strip())\n",
    "\n",
    "html_content = \"\"\"\n",
    "<html>\n",
    "<head><title>Test Document</title></head>\n",
    "<body>\n",
    "<h1>Main Heading</h1>\n",
    "<p>Some paragraph text.</p>\n",
    "<h2>Subheading 1</h2>\n",
    "<h3>Sub-subheading</h3>\n",
    "<h2>Subheading 2</h2>\n",
    "<h4>Deeper subheading</h4>\n",
    "</body>\n",
    "</html>\n",
    "\"\"\"\n",
    "\n",
    "\n",
    "parser = HeadingParser()\n",
    "parser.feed(html_content)\n"
   ]
  },
  {
   "cell_type": "markdown",
   "id": "c58cf66b-cb08-413c-941e-d391f80b0ec2",
   "metadata": {},
   "source": [
    "# Question 7\n",
    "Implement recursive function webdir().\n"
   ]
  },
  {
   "cell_type": "code",
   "execution_count": 77,
   "id": "95998a02-9fb7-4036-921c-03e9b25a4c5f",
   "metadata": {},
   "outputs": [
    {
     "name": "stdout",
     "output_type": "stream",
     "text": [
      "http://reed.cs.depaul.edu/lperkovic/csc242/test1.html\n"
     ]
    }
   ],
   "source": [
    "import requests\n",
    "from bs4 import BeautifulSoup\n",
    "\n",
    "def webdir(url, depth, indent):\n",
    "    # Print the current URL with the specified indentation\n",
    "    print(' ' * indent + url)\n",
    "    \n",
    "    # Base case: if depth is 0, return\n",
    "    if depth == 0:\n",
    "        return\n",
    "    \n",
    "    try:\n",
    "        # Fetch the content of the URL\n",
    "        response = requests.get(url)\n",
    "        # If the request is successful, parse the HTML\n",
    "        if response.status_code == 200:\n",
    "            soup = BeautifulSoup(response.text, 'html.parser')\n",
    "            # Extract all links from the page\n",
    "            for link in soup.find_all('a', href=True):\n",
    "                # Get the absolute URL\n",
    "                next_url = link['href']\n",
    "                # Some links may be relative; make them absolute\n",
    "                if next_url.startswith('/'):\n",
    "                    next_url = requests.compat.urljoin(url, next_url)\n",
    "                \n",
    "                # Recursive call for the next URL\n",
    "                webdir(next_url, depth - 1, indent + 4)\n",
    "    except requests.RequestException as e:\n",
    "        # Print an error message if there is an issue with the request\n",
    "        print(' ' * indent + f\"Error: {e}\")\n",
    "\n",
    "# Example usage\n",
    "webdir('http://reed.cs.depaul.edu/lperkovic/csc242/test1.html', 2, 0)\n"
   ]
  },
  {
   "cell_type": "markdown",
   "id": "efe7f726-7b00-4d29-b93b-399d871e63db",
   "metadata": {},
   "source": [
    "# Question 8\n",
    "\n",
    "Write SQL queries."
   ]
  },
  {
   "cell_type": "code",
   "execution_count": 41,
   "id": "a0577277-179c-4782-85c8-484c008281f3",
   "metadata": {},
   "outputs": [
    {
     "name": "stdout",
     "output_type": "stream",
     "text": [
      "a) All the temperature data:\n",
      "24.8\n",
      "28.4\n",
      "27.9\n",
      "27.6\n",
      "13.6\n",
      "20.7\n",
      "27.7\n",
      "22.2\n",
      "4.2\n",
      "8.3\n",
      "15.7\n",
      "10.4\n",
      "\n",
      "b) All the cities, but without repetition:\n",
      "Mumbai\n",
      "Cairo\n",
      "London\n",
      "\n",
      "c) All the records for India:\n",
      "('Mumbai', 'India', 'Winter', 24.8, 5.9)\n",
      "('Mumbai', 'India', 'Spring', 28.4, 16.2)\n",
      "('Mumbai', 'India', 'Summer', 27.9, 1549.4)\n",
      "('Mumbai', 'India', 'Fall', 27.6, 346.0)\n",
      "\n",
      "d) All the Fall records:\n",
      "('Mumbai', 'India', 'Fall', 27.6, 346.0)\n",
      "('Cairo', 'Egypt', 'Fall', 22.2, 4.5)\n",
      "('London', 'UK', 'Fall', 10.4, 218.5)\n",
      "\n",
      "e) The city, country, and season for which the average rainfall is between 200 and 400 millimeters:\n",
      "('Mumbai', 'India', 'Fall')\n",
      "('London', 'UK', 'Winter')\n",
      "('London', 'UK', 'Fall')\n",
      "\n",
      "f) The city and country for which the average Fall temperature is above 20 degrees, in increasing temperature order:\n",
      "('Cairo', 'Egypt')\n",
      "('Mumbai', 'India')\n",
      "\n",
      "g) The total annual rainfall for Cairo:\n",
      "27.6\n",
      "\n",
      "h) The total rainfall for each season:\n",
      "('Fall', 569.0)\n",
      "('Spring', 192.29999999999998)\n",
      "('Summer', 1706.5)\n",
      "('Winter', 230.1)\n",
      "\n"
     ]
    }
   ],
   "source": [
    "import sqlite3\n",
    "\n",
    "conn = sqlite3.connect(':memory:')\n",
    "cur = conn.cursor()\n",
    "\n",
    "cur.execute('''\n",
    "CREATE TABLE Weather (\n",
    "    City TEXT,\n",
    "    Country TEXT,\n",
    "    Season TEXT,\n",
    "    Temperature REAL,\n",
    "    Rainfall REAL\n",
    ")\n",
    "''')\n",
    "\n",
    "data = [\n",
    "    ('Mumbai', 'India', 'Winter', 24.8, 5.9),\n",
    "    ('Mumbai', 'India', 'Spring', 28.4, 16.2),\n",
    "    ('Mumbai', 'India', 'Summer', 27.9, 1549.4),\n",
    "    ('Mumbai', 'India', 'Fall', 27.6, 346.0),\n",
    "    ('Cairo', 'Egypt', 'Winter', 13.6, 16.5),\n",
    "    ('Cairo', 'Egypt', 'Spring', 20.7, 6.5),\n",
    "    ('Cairo', 'Egypt', 'Summer', 27.7, 0.1),\n",
    "    ('Cairo', 'Egypt', 'Fall', 22.2, 4.5),\n",
    "    ('London', 'UK', 'Winter', 4.2, 207.7),\n",
    "    ('London', 'UK', 'Spring', 8.3, 169.6),\n",
    "    ('London', 'UK', 'Summer', 15.7, 157.0),\n",
    "    ('London', 'UK', 'Fall', 10.4, 218.5),\n",
    "]\n",
    "cur.executemany(\"INSERT INTO Weather VALUES (?, ?, ?, ?, ?)\", data)\n",
    "conn.commit()\n",
    "\n",
    "print(\"a) All the temperature data:\")\n",
    "for row in cur.execute(\"SELECT Temperature FROM Weather\"):\n",
    "    print(row[0])\n",
    "print()\n",
    "\n",
    "print(\"b) All the cities, but without repetition:\")\n",
    "for row in cur.execute(\"SELECT DISTINCT City FROM Weather\"):\n",
    "    print(row[0])\n",
    "print()\n",
    "\n",
    "print(\"c) All the records for India:\")\n",
    "for row in cur.execute(\"SELECT * FROM Weather WHERE Country = 'India'\"):\n",
    "    print(row)\n",
    "print()\n",
    "\n",
    "print(\"d) All the Fall records:\")\n",
    "for row in cur.execute(\"SELECT * FROM Weather WHERE Season = 'Fall'\"):\n",
    "    print(row)\n",
    "print()\n",
    "\n",
    "print(\"e) The city, country, and season for which the average rainfall is between 200 and 400 millimeters:\")\n",
    "for row in cur.execute(\"\"\"\n",
    "    SELECT City, Country, Season\n",
    "    FROM Weather\n",
    "    WHERE Rainfall BETWEEN 200 AND 400\n",
    "\"\"\"):\n",
    "    print(row)\n",
    "print()\n",
    "\n",
    "print(\"f) The city and country for which the average Fall temperature is above 20 degrees, in increasing temperature order:\")\n",
    "for row in cur.execute(\"\"\"\n",
    "    SELECT City, Country\n",
    "    FROM Weather\n",
    "    WHERE Season = 'Fall' AND Temperature > 20\n",
    "    ORDER BY Temperature ASC\n",
    "\"\"\"):\n",
    "    print(row)\n",
    "print()\n",
    "\n",
    "print(\"g) The total annual rainfall for Cairo:\")\n",
    "for row in cur.execute(\"\"\"\n",
    "    SELECT SUM(Rainfall)\n",
    "    FROM Weather\n",
    "    WHERE City = 'Cairo'\n",
    "\"\"\"):\n",
    "    print(row[0])\n",
    "print()\n",
    "\n",
    "print(\"h) The total rainfall for each season:\")\n",
    "for row in cur.execute(\"\"\"\n",
    "    SELECT Season, SUM(Rainfall)\n",
    "    FROM Weather\n",
    "    GROUP BY Season\n",
    "\"\"\"):\n",
    "    print(row)\n",
    "print()\n",
    "\n",
    "conn.close()\n"
   ]
  },
  {
   "cell_type": "markdown",
   "id": "5e426095-c4dd-4173-804d-07387aa1f1b0",
   "metadata": {},
   "source": [
    "# Question 9\n",
    "\n",
    "Write list comprehension expressions .\n"
   ]
  },
  {
   "cell_type": "code",
   "execution_count": 44,
   "id": "fd22f581-a739-47c0-a9b0-60f04b2440b1",
   "metadata": {},
   "outputs": [
    {
     "name": "stdout",
     "output_type": "stream",
     "text": [
      "a) ['THE', 'QUICK', 'BROWN', 'FOX', 'JUMPS', 'OVER', 'THE', 'LAZY', 'DOG']\n",
      "b) ['the', 'quick', 'brown', 'fox', 'jumps', 'over', 'the', 'lazy', 'dog']\n",
      "c) [3, 5, 5, 3, 5, 4, 3, 4, 3]\n",
      "d) [['THE', 'the', 3], ['QUICK', 'quick', 5], ['BROWN', 'brown', 5], ['FOX', 'fox', 3], ['JUMPS', 'jumps', 5], ['OVER', 'over', 4], ['THE', 'the', 3], ['LAZY', 'lazy', 4], ['DOG', 'dog', 3]]\n",
      "e) ['quick', 'brown', 'jumps', 'over', 'lazy']\n"
     ]
    }
   ],
   "source": [
    "words = ['The', 'quick', 'brown', 'fox', 'jumps', 'over', 'the', 'lazy', 'dog']\n",
    "\n",
    "upper_words = [word.upper() for word in words]\n",
    "print(\"a)\", upper_words)\n",
    "\n",
    "lower_words = [word.lower() for word in words]\n",
    "print(\"b)\", lower_words)\n",
    "\n",
    "word_lengths = [len(word) for word in words]\n",
    "print(\"c)\", word_lengths)\n",
    "\n",
    "word_info = [[word.upper(), word.lower(), len(word)] for word in words]\n",
    "print(\"d)\", word_info)\n",
    "\n",
    "long_words = [word for word in words if len(word) >= 4]\n",
    "print(\"e)\", long_words)\n"
   ]
  },
  {
   "cell_type": "code",
   "execution_count": null,
   "id": "03949679-e043-4756-8e8d-9490c51ceb7e",
   "metadata": {},
   "outputs": [],
   "source": []
  }
 ],
 "metadata": {
  "kernelspec": {
   "display_name": "Python 3 (ipykernel)",
   "language": "python",
   "name": "python3"
  },
  "language_info": {
   "codemirror_mode": {
    "name": "ipython",
    "version": 3
   },
   "file_extension": ".py",
   "mimetype": "text/x-python",
   "name": "python",
   "nbconvert_exporter": "python",
   "pygments_lexer": "ipython3",
   "version": "3.12.4"
  }
 },
 "nbformat": 4,
 "nbformat_minor": 5
}
